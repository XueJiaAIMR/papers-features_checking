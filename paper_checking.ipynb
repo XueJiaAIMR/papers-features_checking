{
 "cells": [
  {
   "cell_type": "code",
   "execution_count": null,
   "id": "e5453496-e9a9-4af1-975a-2e883c0fea95",
   "metadata": {},
   "outputs": [],
   "source": [
    "import pandas as pd\n",
    "import numpy as np\n",
    "import re"
   ]
  },
  {
   "cell_type": "code",
   "execution_count": null,
   "id": "8f12a8cb-8247-4b4b-b089-93468c1796f7",
   "metadata": {},
   "outputs": [],
   "source": [
    "#load all the papers\n",
    "data_paper = pd.read_csv('./papers.csv')"
   ]
  },
  {
   "cell_type": "code",
   "execution_count": null,
   "id": "cbc60768-3212-4c1c-a2a3-a0ec57e4fa12",
   "metadata": {},
   "outputs": [],
   "source": [
    "# delete the papers include these keywords\n",
    "keywords = [keyword.lower() for keyword in ['First-principles', 'first principle', 'DFT', 'Ab Initio', 'ab initio', 'initio', 'numerical',\n",
    "                                            'Density functional theory', 'Simulation', 'model', 'review', 'perspective',\n",
    "                                            'insight', 'challenge', 'Computational', 'calculations',\n",
    "                                            'modeling', 'Recent progress', 'reactor', 'Development', 'simulation', 'prediction', \n",
    "                                            'theoretical', 'view', 'Machine learning', 'storage system','Density-functional','electronic']]\n",
    "\n",
    "\n",
    "mask = data_paper['文献标题'].apply(lambda x: any(keyword in x.lower() for keyword in keywords))\n",
    "\n",
    "\n",
    "data_paper_include_key = data_paper[mask]\n",
    "\n",
    "\n",
    "data_paper_dele_key = data_paper[~mask]\n",
    "\n",
    "\n",
    "data_paper_include_key = data_paper_include_key.reset_index(drop=True)\n",
    "data_paper_dele_key = data_paper_dele_key.reset_index(drop=True)\n"
   ]
  },
  {
   "cell_type": "code",
   "execution_count": null,
   "id": "aa2de80a-ddcc-4036-aa39-f93eea0a1533",
   "metadata": {},
   "outputs": [],
   "source": [
    "# keep the papers include these keywords\n",
    "keywords = ['hydrogen', 'hydrogenation', 'dehydrogenation']\n",
    "\n",
    "mask = data_paper_dele_key['文献标题'].str.contains('|'.join(keywords), case=False, na=False)\n",
    "\n",
    "\n",
    "df_include = data_paper_dele_key[mask]\n",
    "df_exclude = data_paper_dele_key[~mask]\n",
    "\n",
    "df_include = df_include.reset_index(drop=True)\n",
    "df_exclude = df_exclude.reset_index(drop=True)"
   ]
  },
  {
   "cell_type": "code",
   "execution_count": null,
   "id": "9cef8fe2-1666-49dc-805a-c6868ff8da59",
   "metadata": {},
   "outputs": [],
   "source": [
    "# keep the papers include one of the elemtns listed as below\n",
    "\n",
    "metal_elements_full = {\n",
    "    'Li': 'Lithium', 'Be': 'Beryllium', 'Na': 'Sodium', 'Mg': 'Magnesium', 'Al': 'Aluminum', 'K': 'Potassium', \n",
    "    'Ca': 'Calcium', 'Sc': 'Scandium', 'Ti': 'Titanium', 'V': 'Vanadium', 'Cr': 'Chromium', 'Mn': 'Manganese', \n",
    "    'Fe': 'Iron', 'Co': 'Cobalt', 'Ni': 'Nickel', 'Cu': 'Copper', 'Zn': 'Zinc', 'Ga': 'Gallium', 'Rb': 'Rubidium', \n",
    "    'Sr': 'Strontium', 'Y': 'Yttrium', 'Zr': 'Zirconium', 'Nb': 'Niobium', 'Mo': 'Molybdenum', 'Tc': 'Technetium', \n",
    "    'Ru': 'Ruthenium', 'Rh': 'Rhodium', 'Pd': 'Palladium', 'Ag': 'Silver', 'Cd': 'Cadmium', 'In': 'Indium', \n",
    "    'Sn': 'Tin', 'Sb': 'Antimony', 'Cs': 'Cesium', 'Ba': 'Barium', 'La': 'Lanthanum', 'Ce': 'Cerium', \n",
    "    'Pr': 'Praseodymium', 'Nd': 'Neodymium', 'Pm': 'Promethium', 'Sm': 'Samarium', 'Eu': 'Europium', \n",
    "    'Gd': 'Gadolinium', 'Tb': 'Terbium', 'Dy': 'Dysprosium', 'Ho': 'Holmium', 'Er': 'Erbium', 'Tm': 'Thulium', \n",
    "    'Yb': 'Ytterbium', 'Lu': 'Lutetium', 'Hf': 'Hafnium', 'Ta': 'Tantalum', 'W': 'Tungsten', 'Re': 'Rhenium', \n",
    "    'Os': 'Osmium', 'Ir': 'Iridium', 'Pt': 'Platinum', 'Au': 'Gold', 'Hg': 'Mercury', 'Tl': 'Thallium', \n",
    "    'Pb': 'Lead', 'Bi': 'Bismuth', 'Fr': 'Francium', 'Ra': 'Radium', 'Ac': 'Actinium', 'Th': 'Thorium', \n",
    "    'Pa': 'Protactinium', 'U': 'Uranium', 'Np': 'Neptunium', 'Pu': 'Plutonium', 'Am': 'Americium', 'Cm': 'Curium', \n",
    "    'Bk': 'Berkelium', 'Cf': 'Californium', 'Es': 'Einsteinium', 'Fm': 'Fermium', 'Md': 'Mendelevium', \n",
    "    'No': 'Nobelium', 'Lr': 'Lawrencium', 'Rf': 'Rutherfordium', 'Db': 'Dubnium', 'Sg': 'Seaborgium', \n",
    "    'Bh': 'Bohrium', 'Hs': 'Hassium', 'Mt': 'Meitnerium', 'Ds': 'Darmstadtium', 'Rg': 'Roentgenium', \n",
    "    'Cn': 'Copernicium', 'Nh': 'Nihonium', 'Fl': 'Flerovium', 'Mc': 'Moscovium', 'Lv': 'Livermorium', \n",
    "    'Ts': 'Tennessine', 'Og': 'Oganesson'\n",
    "}\n",
    "\n",
    "\n",
    "element_pattern = re.compile(r'\\b(?:' + '|'.join(list(metal_elements_full.keys()) + list(metal_elements_full.values())) + r')\\b')\n",
    "\n",
    "\n",
    "mask = df_include['文献标题'].apply(lambda x: bool(element_pattern.search(x)))\n",
    "\n",
    "\n",
    "data_paper_with_elements = df_include[mask]\n",
    "\n",
    "\n",
    "data_paper_without_elements = df_include[~mask]\n",
    "\n",
    "\n",
    "data_paper_with_elements = data_paper_with_elements.reset_index(drop=True)\n",
    "data_paper_without_elements = data_paper_without_elements.reset_index(drop=True)\n"
   ]
  },
  {
   "cell_type": "code",
   "execution_count": null,
   "id": "c3c87041-8e02-4160-b3ee-5aac93e7839b",
   "metadata": {},
   "outputs": [],
   "source": [
    "# Specifically keep the papers that investigate MgH2 or MH4\n",
    "keywords = ['MgH2', 'H4']\n",
    "\n",
    "\n",
    "mask = data_paper_with_elements['文献标题'].apply(lambda x: any(keyword in x.lower() for keyword in keywords))\n",
    "\n",
    "\n",
    "data_paper_waiting_download_exclude_MgH2_H4 = data_paper_with_elements[~mask]\n",
    "data_paper_waiting_download_include_H4 = data_paper_with_elements[mask]\n",
    "\n",
    "\n",
    "data_paper_waiting_download_exclude_H4 = data_paper_waiting_download_exclude_H4.reset_index(drop=True)\n",
    "data_paper_waiting_download_include_H4 = data_paper_waiting_download_include_H4.reset_index(drop=True)\n",
    "\n",
    "# Out put:\n",
    "# data_paper_include_key 包含了关键词的文献\n",
    "# data_paper_dele_key 不包含关键词的文献\n",
    "\n"
   ]
  }
 ],
 "metadata": {
  "kernelspec": {
   "display_name": "Python 3 (ipykernel)",
   "language": "python",
   "name": "python3"
  },
  "language_info": {
   "codemirror_mode": {
    "name": "ipython",
    "version": 3
   },
   "file_extension": ".py",
   "mimetype": "text/x-python",
   "name": "python",
   "nbconvert_exporter": "python",
   "pygments_lexer": "ipython3",
   "version": "3.11.7"
  }
 },
 "nbformat": 4,
 "nbformat_minor": 5
}
